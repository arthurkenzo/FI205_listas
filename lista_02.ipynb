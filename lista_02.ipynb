{
 "cells": [
  {
   "cell_type": "markdown",
   "metadata": {},
   "source": [
    "### Importando bibliotecas "
   ]
  },
  {
   "cell_type": "code",
   "execution_count": 1,
   "metadata": {},
   "outputs": [],
   "source": [
    "import cvxpy as cp\n",
    "import numpy as np\n",
    "import mosek\n",
    "import cplex\n",
    "\n"
   ]
  },
  {
   "cell_type": "markdown",
   "metadata": {},
   "source": [
    "### Definindo problema de otimização: variáveis e constraints"
   ]
  },
  {
   "cell_type": "code",
   "execution_count": 2,
   "metadata": {},
   "outputs": [],
   "source": [
    "vars = 2\n",
    "\n",
    "# Instanciando o vetor de variáveis de decisão\n",
    "x = cp.Variable(shape=vars, boolean=False)\n",
    "\n",
    "# Criando as matrizes e vetores que defininem as restrições do problema\n",
    "inequalityMatrix = np.array([[2, 1], [1, 3]])\n",
    "inequalityVector = np.array([1, 1])\n",
    "\n",
    "positivityMatrix = np.array([[1, 0], [0, 1]])\n",
    "positivityVector = np.array([0, 0])\n",
    "\n",
    "# Forma matricial das 3 funções objetivo do exercício\n",
    "objFunction1 = np.array([1, 1])\n",
    "objFunction2 = np.array([-1, -1])\n",
    "objFunction3 = np.array([1, 0])\n",
    "\n",
    "# Vetor de constraints para o cvxpy\n",
    "constraints = [inequalityMatrix @ x >= inequalityVector, positivityMatrix @ x >= positivityVector]  # Example of inequality constraints\n",
    "\n"
   ]
  },
  {
   "cell_type": "markdown",
   "metadata": {},
   "source": [
    "### Definindo função objetvio e resolvendo o problema"
   ]
  },
  {
   "cell_type": "code",
   "execution_count": 3,
   "metadata": {},
   "outputs": [
    {
     "name": "stdout",
     "output_type": "stream",
     "text": [
      "Starting optimization run for f1 - CPLEX\n"
     ]
    },
    {
     "name": "stdout",
     "output_type": "stream",
     "text": [
      "f1: Optimum of 0.6 found at x = [0.4 0.2]\n",
      "\n",
      "Starting optimization run for f2 - CPLEX\n",
      "Infeasible or unbounded problem.\n",
      "\n",
      "Starting optimization run for f3 - CPLEX\n"
     ]
    },
    {
     "name": "stderr",
     "output_type": "stream",
     "text": [
      "c:\\Users\\arthu\\venvs\\optmin\\Lib\\site-packages\\cvxpy\\problems\\problem.py:1409: UserWarning: \n",
      "    The problem is either infeasible or unbounded, but the solver\n",
      "    cannot tell which. Disable any solver-specific presolve methods\n",
      "    and re-solve to determine the precise problem status.\n",
      "\n",
      "    For GUROBI and CPLEX you can automatically perform this re-solve\n",
      "    with the keyword argument prob.solve(reoptimize=True, ...).\n",
      "    \n",
      "  warnings.warn(INF_OR_UNB_MESSAGE)\n"
     ]
    },
    {
     "name": "stdout",
     "output_type": "stream",
     "text": [
      "f3: Optimum of 0.0 found at x = [0. 1.]\n"
     ]
    }
   ],
   "source": [
    "# Para cada uma das funções objetivo, instanciar um problem do cvxpy, resolvê-lo, e printar resultado\n",
    "\n",
    "objective = cp.Minimize(objFunction1 @ x)\n",
    "problem = cp.Problem(objective=objective, constraints=constraints)\n",
    "print(\"Starting optimization run for f1 - CPLEX\")\n",
    "resultadoCplex = problem.solve(solver=\"CPLEX\", verbose=False)\n",
    "if(resultadoCplex != None):\n",
    "    optimalPoint = x.value\n",
    "    optimum = objFunction1 * x.value\n",
    "    print(\"f1: Optimum of {} found at x = {}\".format(resultadoCplex, optimalPoint))\n",
    "else:\n",
    "    print(\"Infeasible or unbounded problem.\")\n",
    "\n",
    "print(\"\")\n",
    "objective = cp.Minimize(objFunction2 @ x)\n",
    "problem = cp.Problem(objective=objective, constraints=constraints)\n",
    "print(\"Starting optimization run for f2 - CPLEX\")\n",
    "resultadoCplex = problem.solve(solver=\"CPLEX\", verbose=False)\n",
    "if(resultadoCplex != None):\n",
    "    optimalPoint = x.value\n",
    "    optimum = objFunction2 * x.value\n",
    "    print(\"f2: Optimum of {} found at x = {}\".format(resultadoCplex, optimalPoint))\n",
    "else:\n",
    "    print(\"Infeasible or unbounded problem.\")\n",
    "\n",
    "print(\"\")\n",
    "objective = cp.Minimize(objFunction3 @ x)\n",
    "problem = cp.Problem(objective=objective, constraints=constraints)\n",
    "print(\"Starting optimization run for f3 - CPLEX\")\n",
    "resultadoCplex = problem.solve(solver=\"CPLEX\", verbose=False)\n",
    "if(resultadoCplex != None):\n",
    "    optimalPoint = x.value\n",
    "    optimum = objFunction3 * x.value\n",
    "    print(\"f3: Optimum of {} found at x = {}\".format(resultadoCplex, optimalPoint))\n",
    "else:\n",
    "    print(\"Infeasible or unbounded problem.\")\n",
    "\n",
    "# note que nesse último caso, o solver nos repassa um ponto específico de mínimo com o menor valor numérico\n",
    "# da variável livre x2. No entanto, qualquer ponto da semi-reta x2 >= 1 seria igualmente válido. \n"
   ]
  },
  {
   "cell_type": "markdown",
   "metadata": {},
   "source": [
    "## Programação Semi-Definida:"
   ]
  },
  {
   "cell_type": "code",
   "execution_count": 8,
   "metadata": {},
   "outputs": [
    {
     "name": "stdout",
     "output_type": "stream",
     "text": [
      "The optimal value is 1.000\n",
      "A solution X is\n",
      "[[ 0.5  0.   0.   0.5]\n",
      " [ 0.  -0.   0.   0. ]\n",
      " [ 0.   0.   0.   0. ]\n",
      " [ 0.5  0.   0.   0.5]]\n"
     ]
    }
   ],
   "source": [
    "# No caso da programção semi-definida, seguimos os mesmo passos do exercício anterior\n",
    "# Aqui no entanto, nossas variáveis serão componentes de uma matriz simétrica\n",
    "\n",
    "# código feio horroroso para construir as matrizes do problema\n",
    "A = np.zeros((4,4))\n",
    "B = np.zeros((4,4))\n",
    "Id = np.identity(4)\n",
    "\n",
    "A[0,3] = A[1,2] = A[2,3] = A[3,0] = B[0,0] = B[3,3] = 1\n",
    "B[1,1] = B[2,2] = -1\n",
    "\n",
    "# instanciando uma matriz simétrica como variável de decisão\n",
    "X = cp.Variable((4,4), symmetric=True)\n",
    "\n",
    "# criando lista de constraints para o cvxpy\n",
    "constraints = [cp.trace(B @ X) == 1, cp.trace(X) == 1, X >> 0]\n",
    "\n",
    "# instanciando e resolvendo problema \n",
    "objective = cp.Maximize(cp.trace(A @ X))\n",
    "prob = cp.Problem(objective=objective, constraints=constraints)\n",
    "prob.solve(solver=\"MOSEK\")\n",
    "\n",
    "# mostrando resultados\n",
    "# truncamos o resultado final pois haviam pequenos devios nos valores, muito provavelmente advindos de erros de ponto flutuante\n",
    "print(\"The optimal value is\", '%.3f'%(prob.value))\n",
    "print(\"A solution X is\")\n",
    "print(X.value.round(3))"
   ]
  },
  {
   "cell_type": "code",
   "execution_count": null,
   "metadata": {},
   "outputs": [],
   "source": []
  }
 ],
 "metadata": {
  "kernelspec": {
   "display_name": "optmin",
   "language": "python",
   "name": "python3"
  },
  "language_info": {
   "codemirror_mode": {
    "name": "ipython",
    "version": 3
   },
   "file_extension": ".py",
   "mimetype": "text/x-python",
   "name": "python",
   "nbconvert_exporter": "python",
   "pygments_lexer": "ipython3",
   "version": "3.11.4"
  }
 },
 "nbformat": 4,
 "nbformat_minor": 2
}
