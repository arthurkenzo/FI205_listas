{
 "cells": [
  {
   "cell_type": "markdown",
   "metadata": {},
   "source": [
    "### Importando bibliotecas "
   ]
  },
  {
   "cell_type": "code",
   "execution_count": 2,
   "metadata": {},
   "outputs": [],
   "source": [
    "import cvxpy as cp\n",
    "import numpy as np\n",
    "import mosek\n",
    "\n"
   ]
  },
  {
   "cell_type": "markdown",
   "metadata": {},
   "source": [
    "### Definindo problema de otimização: variáveis e constraints"
   ]
  },
  {
   "cell_type": "code",
   "execution_count": 3,
   "metadata": {},
   "outputs": [],
   "source": [
    "vars = 2\n",
    "\n",
    "# Instanciando o vetor de variáveis de decisão\n",
    "x = cp.Variable(shape=vars, boolean=False)\n",
    "\n",
    "# Criando as matrizes e vetores que defininem as restrições do problema\n",
    "inequalityMatrix = np.array([[2, 1], [1, 3]])\n",
    "inequalityVector = np.array([1, 1])\n",
    "\n",
    "positivityMatrix = np.array([[1, 0], [0, 1]])\n",
    "positivityVector = np.array([0, 0])\n",
    "\n",
    "# Forma matricial das 3 funções objetivo do exercício\n",
    "objFunction1 = np.array([1, 1])\n",
    "objFunction2 = np.array([-1, -1])\n",
    "objFunction3 = np.array([1, 0])\n",
    "\n",
    "# Vetor de constraints para o cvxpy\n",
    "constraints = [inequalityMatrix @ x >= inequalityVector, positivityMatrix @ x >= positivityVector]  # Example of inequality constraints\n",
    "\n"
   ]
  },
  {
   "cell_type": "markdown",
   "metadata": {},
   "source": [
    "### Definindo função objetvio e resolvendo o problema"
   ]
  },
  {
   "cell_type": "code",
   "execution_count": 7,
   "metadata": {},
   "outputs": [
    {
     "name": "stdout",
     "output_type": "stream",
     "text": [
      "minimize [1. 1.] @ var1\n",
      "subject to [1. 1.] <= [[2.00 1.00]\n",
      " [1.00 3.00]] @ var1\n",
      "           [0. 0.] <= [[1.00 0.00]\n",
      " [0.00 1.00]] @ var1\n",
      "Starting optimization run for f1 - MOSEK\n",
      "===============================================================================\n",
      "                                     CVXPY                                     \n",
      "                                     v1.5.1                                    \n",
      "===============================================================================\n",
      "(CVXPY) Jun 17 05:55:06 PM: Your problem has 2 variables, 4 constraints, and 0 parameters.\n",
      "(CVXPY) Jun 17 05:55:06 PM: It is compliant with the following grammars: DCP, DQCP\n",
      "(CVXPY) Jun 17 05:55:06 PM: (If you need to solve this problem multiple times, but with different data, consider using parameters.)\n",
      "(CVXPY) Jun 17 05:55:06 PM: CVXPY will first compile your problem; then, it will invoke a numerical solver to obtain a solution.\n",
      "(CVXPY) Jun 17 05:55:06 PM: Your problem is compiled with the CPP canonicalization backend.\n",
      "-------------------------------------------------------------------------------\n",
      "                                  Compilation                                  \n",
      "-------------------------------------------------------------------------------\n",
      "(CVXPY) Jun 17 05:55:06 PM: Compiling problem (target solver=MOSEK).\n",
      "(CVXPY) Jun 17 05:55:06 PM: Reduction chain: Dcp2Cone -> CvxAttr2Constr -> ConeMatrixStuffing -> MOSEK\n",
      "(CVXPY) Jun 17 05:55:06 PM: Applying reduction Dcp2Cone\n",
      "(CVXPY) Jun 17 05:55:06 PM: Applying reduction CvxAttr2Constr\n",
      "(CVXPY) Jun 17 05:55:06 PM: Applying reduction ConeMatrixStuffing\n",
      "(CVXPY) Jun 17 05:55:06 PM: Applying reduction MOSEK\n",
      "(CVXPY) Jun 17 05:55:06 PM: Finished problem compilation (took 6.442e-03 seconds).\n",
      "-------------------------------------------------------------------------------\n",
      "                                Numerical solver                               \n",
      "-------------------------------------------------------------------------------\n",
      "(CVXPY) Jun 17 05:55:06 PM: Invoking solver MOSEK  to obtain a solution.\n",
      "\n",
      "\n",
      "(CVXPY) Jun 17 05:55:06 PM: Problem\n",
      "(CVXPY) Jun 17 05:55:06 PM:   Name                   :                 \n",
      "(CVXPY) Jun 17 05:55:06 PM:   Objective sense        : maximize        \n",
      "(CVXPY) Jun 17 05:55:06 PM:   Type                   : LO (linear optimization problem)\n",
      "(CVXPY) Jun 17 05:55:06 PM:   Constraints            : 2               \n",
      "(CVXPY) Jun 17 05:55:06 PM:   Affine conic cons.     : 0               \n",
      "(CVXPY) Jun 17 05:55:06 PM:   Disjunctive cons.      : 0               \n",
      "(CVXPY) Jun 17 05:55:06 PM:   Cones                  : 0               \n",
      "(CVXPY) Jun 17 05:55:06 PM:   Scalar variables       : 4               \n",
      "(CVXPY) Jun 17 05:55:06 PM:   Matrix variables       : 0               \n",
      "(CVXPY) Jun 17 05:55:06 PM:   Integer variables      : 0               \n",
      "(CVXPY) Jun 17 05:55:06 PM: \n",
      "(CVXPY) Jun 17 05:55:06 PM: Optimizer started.\n",
      "(CVXPY) Jun 17 05:55:06 PM: Presolve started.\n",
      "(CVXPY) Jun 17 05:55:06 PM: Linear dependency checker started.\n",
      "(CVXPY) Jun 17 05:55:06 PM: Linear dependency checker terminated.\n",
      "(CVXPY) Jun 17 05:55:06 PM: Eliminator started.\n",
      "(CVXPY) Jun 17 05:55:06 PM: Freed constraints in eliminator : 0\n",
      "(CVXPY) Jun 17 05:55:06 PM: Eliminator terminated.\n",
      "(CVXPY) Jun 17 05:55:06 PM: Eliminator started.\n",
      "(CVXPY) Jun 17 05:55:06 PM: Freed constraints in eliminator : 0\n",
      "(CVXPY) Jun 17 05:55:06 PM: Eliminator terminated.\n",
      "(CVXPY) Jun 17 05:55:06 PM: Eliminator - tries                  : 2                 time                   : 0.00            \n",
      "(CVXPY) Jun 17 05:55:06 PM: Lin. dep.  - tries                  : 1                 time                   : 0.00            \n",
      "(CVXPY) Jun 17 05:55:06 PM: Lin. dep.  - primal attempts        : 1                 successes              : 1               \n",
      "(CVXPY) Jun 17 05:55:06 PM: Lin. dep.  - dual attempts          : 0                 successes              : 0               \n",
      "(CVXPY) Jun 17 05:55:06 PM: Lin. dep.  - primal deps.           : 0                 dual deps.             : 0               \n",
      "(CVXPY) Jun 17 05:55:06 PM: Presolve terminated. Time: 0.00    \n",
      "(CVXPY) Jun 17 05:55:06 PM: Optimizer  - threads                : 8               \n",
      "(CVXPY) Jun 17 05:55:06 PM: Optimizer  - solved problem         : the primal      \n",
      "(CVXPY) Jun 17 05:55:06 PM: Optimizer  - Constraints            : 2               \n",
      "(CVXPY) Jun 17 05:55:06 PM: Optimizer  - Cones                  : 0               \n",
      "(CVXPY) Jun 17 05:55:06 PM: Optimizer  - Scalar variables       : 4                 conic                  : 0               \n",
      "(CVXPY) Jun 17 05:55:06 PM: Optimizer  - Semi-definite variables: 0                 scalarized             : 0               \n",
      "(CVXPY) Jun 17 05:55:06 PM: Factor     - setup time             : 0.00            \n",
      "(CVXPY) Jun 17 05:55:06 PM: Factor     - dense det. time        : 0.00              GP order time          : 0.00            \n",
      "(CVXPY) Jun 17 05:55:06 PM: Factor     - nonzeros before factor : 3                 after factor           : 3               \n",
      "(CVXPY) Jun 17 05:55:06 PM: Factor     - dense dim.             : 0                 flops                  : 2.10e+01        \n",
      "(CVXPY) Jun 17 05:55:06 PM: ITE PFEAS    DFEAS    GFEAS    PRSTATUS   POBJ              DOBJ              MU       TIME  \n",
      "(CVXPY) Jun 17 05:55:06 PM: 0   4.6e-01  1.3e-01  2.3e-01  0.00e+00   1.079832691e+00   1.098388616e+00   2.6e-01  0.01  \n",
      "(CVXPY) Jun 17 05:55:06 PM: 1   5.7e-02  1.7e-02  2.9e-02  2.00e+00   6.339752199e-01   6.247925952e-01   3.2e-02  0.01  \n",
      "(CVXPY) Jun 17 05:55:06 PM: 2   6.6e-04  1.9e-04  3.4e-04  1.09e+00   6.001761066e-01   6.000724253e-01   3.8e-04  0.01  \n",
      "(CVXPY) Jun 17 05:55:06 PM: 3   6.6e-08  1.9e-08  3.4e-08  1.00e+00   6.000000177e-01   6.000000073e-01   3.8e-08  0.01  \n",
      "(CVXPY) Jun 17 05:55:06 PM: 4   6.6e-12  1.9e-12  3.4e-12  1.00e+00   6.000000000e-01   6.000000000e-01   3.8e-12  0.01  \n",
      "(CVXPY) Jun 17 05:55:06 PM: Optimizer terminated. Time: 0.02    \n",
      "(CVXPY) Jun 17 05:55:06 PM: \n",
      "(CVXPY) Jun 17 05:55:06 PM: \n",
      "(CVXPY) Jun 17 05:55:06 PM: Interior-point solution summary\n",
      "(CVXPY) Jun 17 05:55:06 PM:   Problem status  : PRIMAL_AND_DUAL_FEASIBLE\n",
      "(CVXPY) Jun 17 05:55:06 PM:   Solution status : OPTIMAL\n",
      "(CVXPY) Jun 17 05:55:06 PM:   Primal.  obj: 6.0000000000e-01    nrm: 1e+00    Viol.  con: 1e-11    var: 0e+00  \n",
      "(CVXPY) Jun 17 05:55:06 PM:   Dual.    obj: 6.0000000000e-01    nrm: 4e-01    Viol.  con: 0e+00    var: 1e-12  \n",
      "-------------------------------------------------------------------------------\n",
      "                                    Summary                                    \n",
      "-------------------------------------------------------------------------------\n",
      "(CVXPY) Jun 17 05:55:06 PM: Problem status: optimal\n",
      "(CVXPY) Jun 17 05:55:06 PM: Optimal value: 6.000e-01\n",
      "(CVXPY) Jun 17 05:55:06 PM: Compilation took 6.442e-03 seconds\n",
      "(CVXPY) Jun 17 05:55:06 PM: Solver (including time spent in interface) took 2.310e-02 seconds\n",
      "f1: Optimum of 0.6000000000007311 found at x = [0.4 0.2]\n",
      "\n",
      "Starting optimization run for f2 - MOSEK\n"
     ]
    },
    {
     "ename": "TypeError",
     "evalue": "unsupported operand type(s) for *: 'int' and 'NoneType'",
     "output_type": "error",
     "traceback": [
      "\u001b[0;31m---------------------------------------------------------------------------\u001b[0m",
      "\u001b[0;31mTypeError\u001b[0m                                 Traceback (most recent call last)",
      "Cell \u001b[0;32mIn[7], line 22\u001b[0m\n\u001b[1;32m     20\u001b[0m \u001b[38;5;28;01mif\u001b[39;00m(resultadoCplex \u001b[38;5;241m!=\u001b[39m \u001b[38;5;28;01mNone\u001b[39;00m):\n\u001b[1;32m     21\u001b[0m     optimalPoint \u001b[38;5;241m=\u001b[39m x\u001b[38;5;241m.\u001b[39mvalue\n\u001b[0;32m---> 22\u001b[0m     optimum \u001b[38;5;241m=\u001b[39m \u001b[43mobjFunction2\u001b[49m\u001b[43m \u001b[49m\u001b[38;5;241;43m*\u001b[39;49m\u001b[43m \u001b[49m\u001b[43mx\u001b[49m\u001b[38;5;241;43m.\u001b[39;49m\u001b[43mvalue\u001b[49m\n\u001b[1;32m     23\u001b[0m     \u001b[38;5;28mprint\u001b[39m(\u001b[38;5;124m\"\u001b[39m\u001b[38;5;124mf2: Optimum of \u001b[39m\u001b[38;5;132;01m{}\u001b[39;00m\u001b[38;5;124m found at x = \u001b[39m\u001b[38;5;132;01m{}\u001b[39;00m\u001b[38;5;124m\"\u001b[39m\u001b[38;5;241m.\u001b[39mformat(resultadoCplex, optimalPoint))\n\u001b[1;32m     24\u001b[0m \u001b[38;5;28;01melse\u001b[39;00m:\n",
      "\u001b[0;31mTypeError\u001b[0m: unsupported operand type(s) for *: 'int' and 'NoneType'"
     ]
    }
   ],
   "source": [
    "# Para cada uma das funções objetivo, instanciar um problem do cvxpy, resolvê-lo, e printar resultado\n",
    "\n",
    "objective = cp.Minimize(objFunction1 @ x)\n",
    "problem = cp.Problem(objective=objective, constraints=constraints)\n",
    "print(problem)\n",
    "print(\"Starting optimization run for f1 - MOSEK\")\n",
    "resultadoCplex = problem.solve(solver=\"MOSEK\", verbose=True)\n",
    "if(resultadoCplex != None):\n",
    "    optimalPoint = x.value\n",
    "    optimum = objFunction1 * x.value\n",
    "    print(\"f1: Optimum of {} found at x = {}\".format(resultadoCplex, optimalPoint))\n",
    "else:\n",
    "    print(\"Infeasible or unbounded problem.\")\n",
    "\n",
    "print(\"\")\n",
    "objective = cp.Minimize(objFunction2 @ x)\n",
    "problem = cp.Problem(objective=objective, constraints=constraints)\n",
    "print(\"Starting optimization run for f2 - MOSEK\")\n",
    "resultadoCplex = problem.solve(solver=\"MOSEK\", verbose=False)\n",
    "if(resultadoCplex != None):\n",
    "    optimalPoint = x.value\n",
    "    optimum = objFunction2 * x.value\n",
    "    print(\"f2: Optimum of {} found at x = {}\".format(resultadoCplex, optimalPoint))\n",
    "else:\n",
    "    print(\"Infeasible or unbounded problem.\")\n",
    "\n",
    "print(\"\")\n",
    "objective = cp.Minimize(objFunction3 @ x)\n",
    "problem = cp.Problem(objective=objective, constraints=constraints)\n",
    "print(\"Starting optimization run for f3 - MOSEK\")\n",
    "resultadoCplex = problem.solve(solver=\"MOSEK\", verbose=False)\n",
    "if(resultadoCplex != None):\n",
    "    optimalPoint = x.value\n",
    "    optimum = objFunction3 * x.value\n",
    "    print(\"f3: Optimum of {} found at x = {}\".format(resultadoCplex, optimalPoint))\n",
    "else:\n",
    "    print(\"Infeasible or unbounded problem.\")\n",
    "\n",
    "# note que nesse último caso, o solver nos repassa um ponto específico de mínimo com o menor valor numérico\n",
    "# da variável livre x2. No entanto, qualquer ponto da semi-reta x2 >= 1 seria igualmente válido. \n"
   ]
  },
  {
   "cell_type": "markdown",
   "metadata": {},
   "source": [
    "## Programação Semi-Definida:"
   ]
  },
  {
   "cell_type": "code",
   "execution_count": 8,
   "metadata": {},
   "outputs": [
    {
     "name": "stdout",
     "output_type": "stream",
     "text": [
      "The optimal value is 1.000\n",
      "A solution X is\n",
      "[[ 0.5  0.   0.   0.5]\n",
      " [ 0.  -0.   0.   0. ]\n",
      " [ 0.   0.   0.   0. ]\n",
      " [ 0.5  0.   0.   0.5]]\n"
     ]
    }
   ],
   "source": [
    "# No caso da programção semi-definida, seguimos os mesmo passos do exercício anterior\n",
    "# Aqui no entanto, nossas variáveis serão componentes de uma matriz simétrica\n",
    "\n",
    "# código feio horroroso para construir as matrizes do problema\n",
    "A = np.zeros((4,4))\n",
    "B = np.zeros((4,4))\n",
    "Id = np.identity(4)\n",
    "\n",
    "A[0,3] = A[1,2] = A[2,3] = A[3,0] = B[0,0] = B[3,3] = 1\n",
    "B[1,1] = B[2,2] = -1\n",
    "\n",
    "# instanciando uma matriz simétrica como variável de decisão\n",
    "X = cp.Variable((4,4), symmetric=True)\n",
    "\n",
    "# criando lista de constraints para o cvxpy\n",
    "constraints = [cp.trace(B @ X) == 1, cp.trace(X) == 1, X >> 0]\n",
    "\n",
    "# instanciando e resolvendo problema \n",
    "objective = cp.Maximize(cp.trace(A @ X))\n",
    "prob = cp.Problem(objective=objective, constraints=constraints)\n",
    "prob.solve(solver=\"MOSEK\")\n",
    "\n",
    "# mostrando resultados\n",
    "# truncamos o resultado final pois haviam pequenos devios nos valores, muito provavelmente advindos de erros de ponto flutuante\n",
    "print(\"The optimal value is\", '%.3f'%(prob.value))\n",
    "print(\"A solution X is\")\n",
    "print(X.value.round(3))"
   ]
  },
  {
   "cell_type": "code",
   "execution_count": null,
   "metadata": {},
   "outputs": [],
   "source": []
  }
 ],
 "metadata": {
  "kernelspec": {
   "display_name": "fi205",
   "language": "python",
   "name": "fi205"
  },
  "language_info": {
   "codemirror_mode": {
    "name": "ipython",
    "version": 3
   },
   "file_extension": ".py",
   "mimetype": "text/x-python",
   "name": "python",
   "nbconvert_exporter": "python",
   "pygments_lexer": "ipython3",
   "version": "3.12.2"
  }
 },
 "nbformat": 4,
 "nbformat_minor": 2
}
