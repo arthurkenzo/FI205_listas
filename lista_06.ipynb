{
 "cells": [
  {
   "cell_type": "markdown",
   "metadata": {},
   "source": [
    "### Importando bibliotecas "
   ]
  },
  {
   "cell_type": "code",
   "execution_count": 2,
   "metadata": {},
   "outputs": [],
   "source": [
    "import cvxpy as cp\n",
    "import numpy as np\n",
    "import mosek\n",
    "import cplex\n",
    "\n"
   ]
  },
  {
   "cell_type": "markdown",
   "metadata": {},
   "source": [
    "### Definindo estados e operadores densidade, calculando Holevo bound"
   ]
  },
  {
   "cell_type": "code",
   "execution_count": 3,
   "metadata": {},
   "outputs": [
    {
     "name": "stdout",
     "output_type": "stream",
     "text": [
      "rho:  [[ 5.00000000e-01+0.00000000e+00j -3.46944695e-17+2.77555756e-17j]\n",
      " [-3.46944695e-17+2.77555756e-17j  2.77555756e-17+1.66533454e-16j]]\n",
      "eigenvalues:  [5.00000000e-01+0.00000000e+00j 2.77555756e-17+1.66533454e-16j]\n",
      "(0.5000000000000018+8.669279711052e-15j)\n"
     ]
    }
   ],
   "source": [
    "psi1 = np.array([1, 0])\n",
    "psi2 = np.array([1, np.sqrt(2)])/np.sqrt(3)\n",
    "psi3 = np.array([1, np.exp(1j*2*np.pi/3)*np.sqrt(2)])/np.sqrt(3)\n",
    "psi4 = np.array([1, np.exp(1j*4*np.pi/3)*np.sqrt(2)])/np.sqrt(3)\n",
    "\n",
    "\n",
    "rho1 = np.outer(psi1, psi1)\n",
    "rho2 = np.outer(psi2, psi2)\n",
    "rho3 = np.outer(psi3, psi3)\n",
    "rho4 = np.outer(psi4, psi4)\n",
    "\n",
    "p = np.ones(4)/4\n",
    "\n",
    "rho = (rho1 + rho2 + rho3 + rho4)/4\n",
    "\n",
    "\n",
    "print(\"rho: \", rho)\n",
    "\n",
    "\n",
    "def entropy(rho):\n",
    "    eigenvalues, _ = np.linalg.eig(rho)\n",
    "    print(\"eigenvalues: \", eigenvalues)\n",
    "    return -np.sum(eigenvalues*np.log2(eigenvalues))\n",
    "\n",
    "bound = entropy(rho)\n",
    "\n",
    "print(bound)\n",
    "\n"
   ]
  },
  {
   "cell_type": "code",
   "execution_count": null,
   "metadata": {},
   "outputs": [],
   "source": []
  }
 ],
 "metadata": {
  "kernelspec": {
   "display_name": "optmin",
   "language": "python",
   "name": "python3"
  },
  "language_info": {
   "codemirror_mode": {
    "name": "ipython",
    "version": 3
   },
   "file_extension": ".py",
   "mimetype": "text/x-python",
   "name": "python",
   "nbconvert_exporter": "python",
   "pygments_lexer": "ipython3",
   "version": "3.11.4"
  }
 },
 "nbformat": 4,
 "nbformat_minor": 2
}
